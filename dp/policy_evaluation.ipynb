{
 "metadata": {
  "language_info": {
   "codemirror_mode": {
    "name": "ipython",
    "version": 3
   },
   "file_extension": ".py",
   "mimetype": "text/x-python",
   "name": "python",
   "nbconvert_exporter": "python",
   "pygments_lexer": "ipython3",
   "version": "3.8.5-final"
  },
  "orig_nbformat": 2,
  "kernelspec": {
   "name": "python3",
   "display_name": "Python 3.8.5 64-bit ('rl-pg': conda)",
   "metadata": {
    "interpreter": {
     "hash": "720651e43e1acb7aa54f4045115d201696ebfa1093cc4b88bbb772570a4023a2"
    }
   }
  }
 },
 "nbformat": 4,
 "nbformat_minor": 2,
 "cells": [
  {
   "source": [
    "import gym\n",
    "import gym_gridworld\n",
    "import numpy as np\n",
    "\n",
    "rng = np.random.default_rng()"
   ],
   "cell_type": "code",
   "metadata": {},
   "execution_count": 13,
   "outputs": []
  },
  {
   "cell_type": "code",
   "execution_count": 395,
   "metadata": {},
   "outputs": [],
   "source": [
    "''' Calculates the value function for the policy.'''\n",
    "#def policy_evaluation(policy, env, threshold):\n",
    "\n",
    "def random_policy(env, obs):\n",
    "    return env.action_space.sample()\n",
    "\n",
    "def right_or_down_policy(env, obs):\n",
    "    return rng.choice([1, 3])\n",
    "\n",
    "def action_name(action):\n",
    "    return gym_gridworld.envs.gridworld_env.Action(action)\n",
    "\n",
    "def run_episode(env, policy):\n",
    "    obs = env.reset()\n",
    "    max_steps = 100\n",
    "    for idx in range(max_steps):\n",
    "        #env.render()\n",
    "        action = policy(env, obs)\n",
    "        #print(action_name(action))\n",
    "        next_obs, reward, done, _ = env.step(action)\n",
    "        obs = next_obs\n",
    "        if done:\n",
    "            return idx+1\n",
    "\n",
    "def run_n_episodes(env, n, policy):\n",
    "    ep_lengths = [run_episode(env, policy) for _ in range(n)]\n",
    "    return np.average(ep_lengths)"
   ]
  },
  {
   "cell_type": "code",
   "execution_count": 526,
   "metadata": {},
   "outputs": [
    {
     "output_type": "stream",
     "name": "stdout",
     "text": [
      " A  o  o  o \n o  o  o  o \n o  o  o  o \n o  o  o  T \n\n7.88644\n"
     ]
    }
   ],
   "source": [
    "env = gym.make('gridworld-small-v0')\n",
    "env.render()\n",
    "avg = run_n_episodes(env, 100000, right_or_down_policy)\n",
    "print(avg)\n",
    "env.close()"
   ]
  },
  {
   "cell_type": "code",
   "execution_count": 499,
   "metadata": {},
   "outputs": [],
   "source": [
    "# Returns a list of environment ids from the MiniGrid package\n",
    "def minigrid_env_ids():\n",
    "    envids = [spec.id for spec in gym.envs.registry.all()]\n",
    "    mg_envids = [eid for eid in envids if 'MiniGrid' in eid]\n",
    "    return sorted(mg_envids)"
   ]
  },
  {
   "cell_type": "code",
   "execution_count": 38,
   "metadata": {},
   "outputs": [
    {
     "output_type": "stream",
     "name": "stdout",
     "text": [
      "2\n"
     ]
    }
   ],
   "source": []
  },
  {
   "cell_type": "code",
   "execution_count": null,
   "metadata": {},
   "outputs": [],
   "source": []
  }
 ]
}